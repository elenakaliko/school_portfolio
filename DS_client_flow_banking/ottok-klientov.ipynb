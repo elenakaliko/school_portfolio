{
  "cells": [
   {
    "cell_type": "markdown",
    metadata: {
     toc: true
    },
    source: [
     "<h1>Content<span class=\"tocSkip\"></span></h1>\n",
     "<div class=\"toc\"><ul class=\"toc-item\"><li><span><a href=\"#Prepare-data\" data-toc-modified-id=\ "Prepare-data-1\"><span class=\"toc-item-num\">1&nbsp;&nbsp;</span>Prepare data</a></span></li><li><span ><a href=\"#Problem-Investigation\" data-toc-modified-id=\"Problem-Investigation-2\"><span class=\"toc-item-num\">2&nbsp;&nbsp;< /span>Problem research</a></span><ul class=\"toc-item\"><li><span><a href=\"#Data-preparation\" data-toc-modified-id =\"Data-preparation-2.1\"><span class=\"toc-item-num\">2.1&nbsp;&nbsp;</span>Data-preparation</a></span></li><li ><span><a href=\"#Training-Models:-DecisionTreeClassifier\" data-toc-modified-id=\"Training-Models:-DecisionTreeClassifier-2.2\"><span class=\"toc-item- num\">2.2&nbsp;&nbsp;</span>Training Models: DecisionTreeClassifier</a></span></li><li><span><a href=\"#Training Models:-RandomForestClassifier\" data-toc-modified-id=\"Training-models:-RandomForestClassifier-2.3\"><span class=\"toc-item-num\">2.3&nbsp;&nbsp;</span>Training-models: RandomForestClassifier</span> a></span></li><li><span><a href=\"#Model-training:-LogisticRegression\" data-toc-modified-id=\"Model-training:-LogisticRegression-2.4\ "><span class=\"toc-item-num\">2.4&nbsp;&nbsp;</span>Model training: LogisticRegression</a></span></li></ul></li>< li><span><a href=\"#Fighting-imbalance\" data-toc-modified-id=\"Fighting-imbalance-3\"><span class=\"toc-item-num \">3&nbsp;&nbsp;</span>Struggle with imbalance</a></span><ul class=\"toc-item\"><li><span><a href=\"#Remove-imbalance -upsampling-and-downsampling-3.1\"><span class=\"toc-item-num\"> 3.1&nbsp;&nbsp;</span>Unbalance elimination by upsampling and downsampling</a></span></li><li><span><a href=\"#Imbalance-removal-by-threshold-selection-method- class-probability\" data-toc-modified-id=\"Imbalance-correction-by-method-selection-of-probability-class-3.2-threshold\"><span class=\"toc-item-num\">3.2&nbsp; &nbsp;</span>Imbalance elimination by class probability threshold selection</a></span></li></ul></li><li><span><a href=\"#Testing-model\ " data-toc-modified-id=\"Model-Testing-4\"><span class=\"toc-item-num\">4&nbsp;&nbsp;</span>Model-Testing</a></span ></li><li><span><a href=\"#Output\" data-toc-modified-id=\"Output-5\"><span class=\"toc-item-num\" >5&nbsp;&nbsp;</span>Output</a></span></li><li><span><a href=\"#Project-ready-checklist\" data-toc-modified- id=\"Project-ready-checklist-6\"><span class=\"toc-item-num\">6&nbsp;&nbsp;</span>Project-ready-checklist</a></span ></li></ul></div>"
    ]
   },
   {
    "cell_type": "markdown",
    "metadata": {},
    source: [
     "#Customer churn"
    ]
   },
   {
    "cell_type": "markdown",
    "metadata": {},
    source: [
     "Clients began to leave Beta-Bank. Every month. A little, but noticeably. Banking marketers figured it was cheaper to keep current customers than to attract new ones.\n",
     "\n",
     "You need to predict whether a client will leave the bank in the near future or not. You are provided with historical data on the behavior of clients and termination of agreements with the bank.\n",
     "\n",
     "Build a model with an extremely large *F1*-measure. To pass the project successfully, you need to bring the metric to 0.59. Check the *F1*-measure on the test set yourself.\n",
     "\n",
     "Additionally measure *AUC-ROC*, compare its value with *F1*-measure.\n",
     "\n",
     "Data source: [https://www.kaggle.com/barelydedicated/bank-customer-churn-modeling](https://www.kaggle.com/barelydedicated/bank-customer-churn-modeling)"
    ]
   },
   {
    "cell_type": "markdown",
    "metadata": {},
    source: [
     "#Introduction"
    ]
   },
   {
    "cell_type": "markdown",
    "metadata": {},
    source: [
     "The goal of the project is to identify clients who may leave the bank in the near future in order to take timely measures to retain them. <br><br>\n",
     "In the project, we will take the following steps:<br>\n",
     "1. Let's carry out the initial analysis and data preparation (dataset /datasets/Churn.csv ).<br>\n",
     "2. Train the model on data without class balancing <br>\n",
     "3. Let's train the model taking into account class balancing and compare the results <br>\n",
     "4. Train models of various algorithms with various hyperparameters to choose the best one. The key metric is the F1-measure, in conjunction with AUC-ROC. <br>\n",
     "5. Let's carry out final testing and compare the forecast with the target using a key metric. <br>"
    ]
   },
   {
    "cell_type": "markdown",
    "metadata": {},
    source: [
     "## Preparing data"
    ]
   },
   {
    "cell_type": "code",
    "execution_count": 1,
    "metadata": {},
    "outputs": [],
    source: [
     "# import libraries\n",
     "import numpy as np\n",
     "import pandas as pd\n",
     "import matplotlib.pyplot as plt\n",
